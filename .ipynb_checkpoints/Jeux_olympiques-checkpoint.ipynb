{
 "cells": [
  {
   "cell_type": "code",
   "execution_count": 1,
   "id": "d11719b0",
   "metadata": {},
   "outputs": [],
   "source": [
    "import pandas as pd\n",
    "import plotnine as p9\n",
    "import numpy as np"
   ]
  },
  {
   "cell_type": "code",
   "execution_count": 2,
   "id": "dba77034",
   "metadata": {},
   "outputs": [
    {
     "ename": "FileNotFoundError",
     "evalue": "[Errno 2] No such file or directory: 'olympic_athletes.csv'",
     "output_type": "error",
     "traceback": [
      "\u001b[1;31m---------------------------------------------------------------------------\u001b[0m",
      "\u001b[1;31mFileNotFoundError\u001b[0m                         Traceback (most recent call last)",
      "Input \u001b[1;32mIn [2]\u001b[0m, in \u001b[0;36m<cell line: 1>\u001b[1;34m()\u001b[0m\n\u001b[1;32m----> 1\u001b[0m athletes \u001b[38;5;241m=\u001b[39m \u001b[43mpd\u001b[49m\u001b[38;5;241;43m.\u001b[39;49m\u001b[43mread_csv\u001b[49m\u001b[43m(\u001b[49m\u001b[38;5;124;43m\"\u001b[39;49m\u001b[38;5;124;43molympic_athletes.csv\u001b[39;49m\u001b[38;5;124;43m\"\u001b[39;49m\u001b[43m)\u001b[49m\n\u001b[0;32m      2\u001b[0m hosts \u001b[38;5;241m=\u001b[39m pd\u001b[38;5;241m.\u001b[39mread_csv(\u001b[38;5;124m\"\u001b[39m\u001b[38;5;124molympic_hosts.csv\u001b[39m\u001b[38;5;124m\"\u001b[39m)\n\u001b[0;32m      3\u001b[0m medals \u001b[38;5;241m=\u001b[39m pd\u001b[38;5;241m.\u001b[39mread_csv(\u001b[38;5;124m\"\u001b[39m\u001b[38;5;124molympic_medals.csv\u001b[39m\u001b[38;5;124m\"\u001b[39m)\n",
      "File \u001b[1;32m~\\anaconda3\\lib\\site-packages\\pandas\\util\\_decorators.py:311\u001b[0m, in \u001b[0;36mdeprecate_nonkeyword_arguments.<locals>.decorate.<locals>.wrapper\u001b[1;34m(*args, **kwargs)\u001b[0m\n\u001b[0;32m    305\u001b[0m \u001b[38;5;28;01mif\u001b[39;00m \u001b[38;5;28mlen\u001b[39m(args) \u001b[38;5;241m>\u001b[39m num_allow_args:\n\u001b[0;32m    306\u001b[0m     warnings\u001b[38;5;241m.\u001b[39mwarn(\n\u001b[0;32m    307\u001b[0m         msg\u001b[38;5;241m.\u001b[39mformat(arguments\u001b[38;5;241m=\u001b[39marguments),\n\u001b[0;32m    308\u001b[0m         \u001b[38;5;167;01mFutureWarning\u001b[39;00m,\n\u001b[0;32m    309\u001b[0m         stacklevel\u001b[38;5;241m=\u001b[39mstacklevel,\n\u001b[0;32m    310\u001b[0m     )\n\u001b[1;32m--> 311\u001b[0m \u001b[38;5;28;01mreturn\u001b[39;00m func(\u001b[38;5;241m*\u001b[39margs, \u001b[38;5;241m*\u001b[39m\u001b[38;5;241m*\u001b[39mkwargs)\n",
      "File \u001b[1;32m~\\anaconda3\\lib\\site-packages\\pandas\\io\\parsers\\readers.py:680\u001b[0m, in \u001b[0;36mread_csv\u001b[1;34m(filepath_or_buffer, sep, delimiter, header, names, index_col, usecols, squeeze, prefix, mangle_dupe_cols, dtype, engine, converters, true_values, false_values, skipinitialspace, skiprows, skipfooter, nrows, na_values, keep_default_na, na_filter, verbose, skip_blank_lines, parse_dates, infer_datetime_format, keep_date_col, date_parser, dayfirst, cache_dates, iterator, chunksize, compression, thousands, decimal, lineterminator, quotechar, quoting, doublequote, escapechar, comment, encoding, encoding_errors, dialect, error_bad_lines, warn_bad_lines, on_bad_lines, delim_whitespace, low_memory, memory_map, float_precision, storage_options)\u001b[0m\n\u001b[0;32m    665\u001b[0m kwds_defaults \u001b[38;5;241m=\u001b[39m _refine_defaults_read(\n\u001b[0;32m    666\u001b[0m     dialect,\n\u001b[0;32m    667\u001b[0m     delimiter,\n\u001b[1;32m   (...)\u001b[0m\n\u001b[0;32m    676\u001b[0m     defaults\u001b[38;5;241m=\u001b[39m{\u001b[38;5;124m\"\u001b[39m\u001b[38;5;124mdelimiter\u001b[39m\u001b[38;5;124m\"\u001b[39m: \u001b[38;5;124m\"\u001b[39m\u001b[38;5;124m,\u001b[39m\u001b[38;5;124m\"\u001b[39m},\n\u001b[0;32m    677\u001b[0m )\n\u001b[0;32m    678\u001b[0m kwds\u001b[38;5;241m.\u001b[39mupdate(kwds_defaults)\n\u001b[1;32m--> 680\u001b[0m \u001b[38;5;28;01mreturn\u001b[39;00m \u001b[43m_read\u001b[49m\u001b[43m(\u001b[49m\u001b[43mfilepath_or_buffer\u001b[49m\u001b[43m,\u001b[49m\u001b[43m \u001b[49m\u001b[43mkwds\u001b[49m\u001b[43m)\u001b[49m\n",
      "File \u001b[1;32m~\\anaconda3\\lib\\site-packages\\pandas\\io\\parsers\\readers.py:575\u001b[0m, in \u001b[0;36m_read\u001b[1;34m(filepath_or_buffer, kwds)\u001b[0m\n\u001b[0;32m    572\u001b[0m _validate_names(kwds\u001b[38;5;241m.\u001b[39mget(\u001b[38;5;124m\"\u001b[39m\u001b[38;5;124mnames\u001b[39m\u001b[38;5;124m\"\u001b[39m, \u001b[38;5;28;01mNone\u001b[39;00m))\n\u001b[0;32m    574\u001b[0m \u001b[38;5;66;03m# Create the parser.\u001b[39;00m\n\u001b[1;32m--> 575\u001b[0m parser \u001b[38;5;241m=\u001b[39m TextFileReader(filepath_or_buffer, \u001b[38;5;241m*\u001b[39m\u001b[38;5;241m*\u001b[39mkwds)\n\u001b[0;32m    577\u001b[0m \u001b[38;5;28;01mif\u001b[39;00m chunksize \u001b[38;5;129;01mor\u001b[39;00m iterator:\n\u001b[0;32m    578\u001b[0m     \u001b[38;5;28;01mreturn\u001b[39;00m parser\n",
      "File \u001b[1;32m~\\anaconda3\\lib\\site-packages\\pandas\\io\\parsers\\readers.py:933\u001b[0m, in \u001b[0;36mTextFileReader.__init__\u001b[1;34m(self, f, engine, **kwds)\u001b[0m\n\u001b[0;32m    930\u001b[0m     \u001b[38;5;28mself\u001b[39m\u001b[38;5;241m.\u001b[39moptions[\u001b[38;5;124m\"\u001b[39m\u001b[38;5;124mhas_index_names\u001b[39m\u001b[38;5;124m\"\u001b[39m] \u001b[38;5;241m=\u001b[39m kwds[\u001b[38;5;124m\"\u001b[39m\u001b[38;5;124mhas_index_names\u001b[39m\u001b[38;5;124m\"\u001b[39m]\n\u001b[0;32m    932\u001b[0m \u001b[38;5;28mself\u001b[39m\u001b[38;5;241m.\u001b[39mhandles: IOHandles \u001b[38;5;241m|\u001b[39m \u001b[38;5;28;01mNone\u001b[39;00m \u001b[38;5;241m=\u001b[39m \u001b[38;5;28;01mNone\u001b[39;00m\n\u001b[1;32m--> 933\u001b[0m \u001b[38;5;28mself\u001b[39m\u001b[38;5;241m.\u001b[39m_engine \u001b[38;5;241m=\u001b[39m \u001b[38;5;28;43mself\u001b[39;49m\u001b[38;5;241;43m.\u001b[39;49m\u001b[43m_make_engine\u001b[49m\u001b[43m(\u001b[49m\u001b[43mf\u001b[49m\u001b[43m,\u001b[49m\u001b[43m \u001b[49m\u001b[38;5;28;43mself\u001b[39;49m\u001b[38;5;241;43m.\u001b[39;49m\u001b[43mengine\u001b[49m\u001b[43m)\u001b[49m\n",
      "File \u001b[1;32m~\\anaconda3\\lib\\site-packages\\pandas\\io\\parsers\\readers.py:1217\u001b[0m, in \u001b[0;36mTextFileReader._make_engine\u001b[1;34m(self, f, engine)\u001b[0m\n\u001b[0;32m   1213\u001b[0m     mode \u001b[38;5;241m=\u001b[39m \u001b[38;5;124m\"\u001b[39m\u001b[38;5;124mrb\u001b[39m\u001b[38;5;124m\"\u001b[39m\n\u001b[0;32m   1214\u001b[0m \u001b[38;5;66;03m# error: No overload variant of \"get_handle\" matches argument types\u001b[39;00m\n\u001b[0;32m   1215\u001b[0m \u001b[38;5;66;03m# \"Union[str, PathLike[str], ReadCsvBuffer[bytes], ReadCsvBuffer[str]]\"\u001b[39;00m\n\u001b[0;32m   1216\u001b[0m \u001b[38;5;66;03m# , \"str\", \"bool\", \"Any\", \"Any\", \"Any\", \"Any\", \"Any\"\u001b[39;00m\n\u001b[1;32m-> 1217\u001b[0m \u001b[38;5;28mself\u001b[39m\u001b[38;5;241m.\u001b[39mhandles \u001b[38;5;241m=\u001b[39m \u001b[43mget_handle\u001b[49m\u001b[43m(\u001b[49m\u001b[43m  \u001b[49m\u001b[38;5;66;43;03m# type: ignore[call-overload]\u001b[39;49;00m\n\u001b[0;32m   1218\u001b[0m \u001b[43m    \u001b[49m\u001b[43mf\u001b[49m\u001b[43m,\u001b[49m\n\u001b[0;32m   1219\u001b[0m \u001b[43m    \u001b[49m\u001b[43mmode\u001b[49m\u001b[43m,\u001b[49m\n\u001b[0;32m   1220\u001b[0m \u001b[43m    \u001b[49m\u001b[43mencoding\u001b[49m\u001b[38;5;241;43m=\u001b[39;49m\u001b[38;5;28;43mself\u001b[39;49m\u001b[38;5;241;43m.\u001b[39;49m\u001b[43moptions\u001b[49m\u001b[38;5;241;43m.\u001b[39;49m\u001b[43mget\u001b[49m\u001b[43m(\u001b[49m\u001b[38;5;124;43m\"\u001b[39;49m\u001b[38;5;124;43mencoding\u001b[39;49m\u001b[38;5;124;43m\"\u001b[39;49m\u001b[43m,\u001b[49m\u001b[43m \u001b[49m\u001b[38;5;28;43;01mNone\u001b[39;49;00m\u001b[43m)\u001b[49m\u001b[43m,\u001b[49m\n\u001b[0;32m   1221\u001b[0m \u001b[43m    \u001b[49m\u001b[43mcompression\u001b[49m\u001b[38;5;241;43m=\u001b[39;49m\u001b[38;5;28;43mself\u001b[39;49m\u001b[38;5;241;43m.\u001b[39;49m\u001b[43moptions\u001b[49m\u001b[38;5;241;43m.\u001b[39;49m\u001b[43mget\u001b[49m\u001b[43m(\u001b[49m\u001b[38;5;124;43m\"\u001b[39;49m\u001b[38;5;124;43mcompression\u001b[39;49m\u001b[38;5;124;43m\"\u001b[39;49m\u001b[43m,\u001b[49m\u001b[43m \u001b[49m\u001b[38;5;28;43;01mNone\u001b[39;49;00m\u001b[43m)\u001b[49m\u001b[43m,\u001b[49m\n\u001b[0;32m   1222\u001b[0m \u001b[43m    \u001b[49m\u001b[43mmemory_map\u001b[49m\u001b[38;5;241;43m=\u001b[39;49m\u001b[38;5;28;43mself\u001b[39;49m\u001b[38;5;241;43m.\u001b[39;49m\u001b[43moptions\u001b[49m\u001b[38;5;241;43m.\u001b[39;49m\u001b[43mget\u001b[49m\u001b[43m(\u001b[49m\u001b[38;5;124;43m\"\u001b[39;49m\u001b[38;5;124;43mmemory_map\u001b[39;49m\u001b[38;5;124;43m\"\u001b[39;49m\u001b[43m,\u001b[49m\u001b[43m \u001b[49m\u001b[38;5;28;43;01mFalse\u001b[39;49;00m\u001b[43m)\u001b[49m\u001b[43m,\u001b[49m\n\u001b[0;32m   1223\u001b[0m \u001b[43m    \u001b[49m\u001b[43mis_text\u001b[49m\u001b[38;5;241;43m=\u001b[39;49m\u001b[43mis_text\u001b[49m\u001b[43m,\u001b[49m\n\u001b[0;32m   1224\u001b[0m \u001b[43m    \u001b[49m\u001b[43merrors\u001b[49m\u001b[38;5;241;43m=\u001b[39;49m\u001b[38;5;28;43mself\u001b[39;49m\u001b[38;5;241;43m.\u001b[39;49m\u001b[43moptions\u001b[49m\u001b[38;5;241;43m.\u001b[39;49m\u001b[43mget\u001b[49m\u001b[43m(\u001b[49m\u001b[38;5;124;43m\"\u001b[39;49m\u001b[38;5;124;43mencoding_errors\u001b[39;49m\u001b[38;5;124;43m\"\u001b[39;49m\u001b[43m,\u001b[49m\u001b[43m \u001b[49m\u001b[38;5;124;43m\"\u001b[39;49m\u001b[38;5;124;43mstrict\u001b[39;49m\u001b[38;5;124;43m\"\u001b[39;49m\u001b[43m)\u001b[49m\u001b[43m,\u001b[49m\n\u001b[0;32m   1225\u001b[0m \u001b[43m    \u001b[49m\u001b[43mstorage_options\u001b[49m\u001b[38;5;241;43m=\u001b[39;49m\u001b[38;5;28;43mself\u001b[39;49m\u001b[38;5;241;43m.\u001b[39;49m\u001b[43moptions\u001b[49m\u001b[38;5;241;43m.\u001b[39;49m\u001b[43mget\u001b[49m\u001b[43m(\u001b[49m\u001b[38;5;124;43m\"\u001b[39;49m\u001b[38;5;124;43mstorage_options\u001b[39;49m\u001b[38;5;124;43m\"\u001b[39;49m\u001b[43m,\u001b[49m\u001b[43m \u001b[49m\u001b[38;5;28;43;01mNone\u001b[39;49;00m\u001b[43m)\u001b[49m\u001b[43m,\u001b[49m\n\u001b[0;32m   1226\u001b[0m \u001b[43m\u001b[49m\u001b[43m)\u001b[49m\n\u001b[0;32m   1227\u001b[0m \u001b[38;5;28;01massert\u001b[39;00m \u001b[38;5;28mself\u001b[39m\u001b[38;5;241m.\u001b[39mhandles \u001b[38;5;129;01mis\u001b[39;00m \u001b[38;5;129;01mnot\u001b[39;00m \u001b[38;5;28;01mNone\u001b[39;00m\n\u001b[0;32m   1228\u001b[0m f \u001b[38;5;241m=\u001b[39m \u001b[38;5;28mself\u001b[39m\u001b[38;5;241m.\u001b[39mhandles\u001b[38;5;241m.\u001b[39mhandle\n",
      "File \u001b[1;32m~\\anaconda3\\lib\\site-packages\\pandas\\io\\common.py:789\u001b[0m, in \u001b[0;36mget_handle\u001b[1;34m(path_or_buf, mode, encoding, compression, memory_map, is_text, errors, storage_options)\u001b[0m\n\u001b[0;32m    784\u001b[0m \u001b[38;5;28;01melif\u001b[39;00m \u001b[38;5;28misinstance\u001b[39m(handle, \u001b[38;5;28mstr\u001b[39m):\n\u001b[0;32m    785\u001b[0m     \u001b[38;5;66;03m# Check whether the filename is to be opened in binary mode.\u001b[39;00m\n\u001b[0;32m    786\u001b[0m     \u001b[38;5;66;03m# Binary mode does not support 'encoding' and 'newline'.\u001b[39;00m\n\u001b[0;32m    787\u001b[0m     \u001b[38;5;28;01mif\u001b[39;00m ioargs\u001b[38;5;241m.\u001b[39mencoding \u001b[38;5;129;01mand\u001b[39;00m \u001b[38;5;124m\"\u001b[39m\u001b[38;5;124mb\u001b[39m\u001b[38;5;124m\"\u001b[39m \u001b[38;5;129;01mnot\u001b[39;00m \u001b[38;5;129;01min\u001b[39;00m ioargs\u001b[38;5;241m.\u001b[39mmode:\n\u001b[0;32m    788\u001b[0m         \u001b[38;5;66;03m# Encoding\u001b[39;00m\n\u001b[1;32m--> 789\u001b[0m         handle \u001b[38;5;241m=\u001b[39m \u001b[38;5;28;43mopen\u001b[39;49m\u001b[43m(\u001b[49m\n\u001b[0;32m    790\u001b[0m \u001b[43m            \u001b[49m\u001b[43mhandle\u001b[49m\u001b[43m,\u001b[49m\n\u001b[0;32m    791\u001b[0m \u001b[43m            \u001b[49m\u001b[43mioargs\u001b[49m\u001b[38;5;241;43m.\u001b[39;49m\u001b[43mmode\u001b[49m\u001b[43m,\u001b[49m\n\u001b[0;32m    792\u001b[0m \u001b[43m            \u001b[49m\u001b[43mencoding\u001b[49m\u001b[38;5;241;43m=\u001b[39;49m\u001b[43mioargs\u001b[49m\u001b[38;5;241;43m.\u001b[39;49m\u001b[43mencoding\u001b[49m\u001b[43m,\u001b[49m\n\u001b[0;32m    793\u001b[0m \u001b[43m            \u001b[49m\u001b[43merrors\u001b[49m\u001b[38;5;241;43m=\u001b[39;49m\u001b[43merrors\u001b[49m\u001b[43m,\u001b[49m\n\u001b[0;32m    794\u001b[0m \u001b[43m            \u001b[49m\u001b[43mnewline\u001b[49m\u001b[38;5;241;43m=\u001b[39;49m\u001b[38;5;124;43m\"\u001b[39;49m\u001b[38;5;124;43m\"\u001b[39;49m\u001b[43m,\u001b[49m\n\u001b[0;32m    795\u001b[0m \u001b[43m        \u001b[49m\u001b[43m)\u001b[49m\n\u001b[0;32m    796\u001b[0m     \u001b[38;5;28;01melse\u001b[39;00m:\n\u001b[0;32m    797\u001b[0m         \u001b[38;5;66;03m# Binary mode\u001b[39;00m\n\u001b[0;32m    798\u001b[0m         handle \u001b[38;5;241m=\u001b[39m \u001b[38;5;28mopen\u001b[39m(handle, ioargs\u001b[38;5;241m.\u001b[39mmode)\n",
      "\u001b[1;31mFileNotFoundError\u001b[0m: [Errno 2] No such file or directory: 'olympic_athletes.csv'"
     ]
    }
   ],
   "source": [
    "athletes = pd.read_csv(\"olympic_athletes.csv\")\n",
    "hosts = pd.read_csv(\"olympic_hosts.csv\")\n",
    "medals = pd.read_csv(\"olympic_medals.csv\")\n",
    "results = pd.read_csv(\"olympic_results.csv\")\n",
    "\n",
    "results_pkl = pd.read_pickle(\"olympic_results.pkl\")"
   ]
  },
  {
   "cell_type": "code",
   "execution_count": null,
   "id": "91f8d389",
   "metadata": {},
   "outputs": [],
   "source": [
    "def testerCle(df, colonnes):\n",
    "    \"\"\"Fonction qui prend en arguments un dataframe et les colonnes qui composent la clé primaire à tester.\"\"\"\n",
    "\n",
    "    # On compare la taille du dataframe avant et après dédoublonnage \n",
    "    if df.size == df.drop_duplicates(colonnes).size :\n",
    "        print(\"La clé n'est pas présente plusieurs fois dans le dataframe.\")\n",
    "        print(\"Elle peut donc être utilisée comme clé primaire.\".format(colonnes))\n",
    "    else :\n",
    "        print(\"La clé est présente plusieurs fois dans le dataframe.\")\n",
    "        print(\"Elle ne peut donc pas être utilisée comme clé primaire.\".format(colonnes))\n",
    "    \n",
    "    # On renvoie également le comptage\n",
    "    print(\"Le dataframe est de la forme : \" + str(df.shape) + \" (lignes, colonnes)\")\n",
    "\n",
    "print(testerCle(hosts, \"game_slug\"))\n",
    "print(hosts.head())"
   ]
  },
  {
   "cell_type": "code",
   "execution_count": null,
   "id": "fe99ed64",
   "metadata": {},
   "outputs": [],
   "source": [
    "results_de = results[(results[\"country_code\"] == \"DE\") | (results[\"country_code\"] == \"DDDE\")] \n",
    "results_de"
   ]
  },
  {
   "cell_type": "code",
   "execution_count": null,
   "id": "2cc7c1d3",
   "metadata": {},
   "outputs": [],
   "source": [
    "hosts_summer = hosts[hosts.game_season == \"Summer\"]\n",
    "print(hosts_summer.head())"
   ]
  },
  {
   "cell_type": "code",
   "execution_count": null,
   "id": "adfd57d5",
   "metadata": {},
   "outputs": [],
   "source": [
    "data = pd.merge(results_de, hosts_summer, left_on=\"slug_game\", right_on=\"game_slug\", how = \"inner\")\n",
    "\n",
    "data_medals = data[~data.medal_type.isnull()]\n",
    "data_medals\n",
    "\n",
    "total_medals = []\n",
    "year = []\n",
    "\n",
    "for i in range(0,len(hosts_summer)*4+12,4):\n",
    "    total_medals.append(len(data_medals[data_medals.game_year == (2020 - i)]))\n",
    "    year.append(2020-i)\n",
    "\n",
    "df_medal_country = pd.DataFrame((zip(total_medals, year)), columns = ['Total_medals', 'Year'])\n",
    "print(df_medal_country)"
   ]
  },
  {
   "cell_type": "code",
   "execution_count": null,
   "id": "72ce44af",
   "metadata": {
    "scrolled": false
   },
   "outputs": [],
   "source": [
    "plot = p9.ggplot(data=df_medal_country,\n",
    "           mapping=p9.aes(x=\"Year\", y=\"Total_medals\"))\n",
    "plot + p9.geom_line(color='red') + p9.ggtitle(\"Répartition des médailles Allemande lors des Jeux Olympiques d'Ete par année\")"
   ]
  },
  {
   "cell_type": "code",
   "execution_count": null,
   "id": "fda94253",
   "metadata": {},
   "outputs": [],
   "source": [
    "for i in range(0,len(hosts_summer)*4+12,4):\n",
    "    total_medals.append(len(data_medals[data_medals.game_year == (2020 - i)]))\n",
    "    year.append(2020-i)\n",
    "\n",
    "medals_de = medals[(medals[\"country_code\"] == \"DE\") | (medals[\"country_code\"] == \"DDDE\")] \n",
    "data_2 = pd.merge(medals_de, hosts_summer, left_on=\"slug_game\", right_on=\"game_slug\", how = \"inner\")\n",
    "test = data_2.athlete_full_name.value_counts()\n",
    "test.head(12)\n",
    "#top = pd.DataFrame(test)\n",
    "#top.reset_index(inplace = True)\n",
    "#top12_bis = top[:12]\n",
    "#top12_bis.athlete_full_name\n",
    "#top12_bis.rename(columns = {'index':'Athlete', 'athlete_full_name':'Nombre_de_medaille',\n",
    "#                              }, inplace = True)\n",
    "#top12_bis"
   ]
  },
  {
   "cell_type": "code",
   "execution_count": null,
   "id": "5bba0448",
   "metadata": {
    "scrolled": true
   },
   "outputs": [],
   "source": [
    "characters = \"'([])\"\n",
    "data_athlete_grp = data_medals[~data_medals.athletes.isnull()]\n",
    "\n",
    "# partie longue à lancer\n",
    "for j in range(len(data_athlete_grp)):\n",
    "    data_athlete_grp.athletes.iloc[j] = str(data_athlete_grp.athletes.iloc[j])\n",
    "    for x in range(len(characters)):\n",
    "        data_athlete_grp.athletes.iloc[j] = data_athlete_grp.athletes.iloc[j].replace(characters[x],\"\")\n",
    "\n",
    "data_athlete_grp.reset_index(inplace = True)\n",
    "data_athlete_grp\n",
    "\n",
    "for i in range(len(data_athlete_grp)):\n",
    "    data_athlete_grp.athletes.iloc[i] = data_athlete_grp.athletes.iloc[i].split(\",\")\n",
    "\n",
    "data_athlete_grp"
   ]
  },
  {
   "cell_type": "code",
   "execution_count": null,
   "id": "8fa0a24d",
   "metadata": {},
   "outputs": [],
   "source": [
    "data_athlete_grp.rename(columns = {'index':'base'}, inplace = True)\n",
    "\n",
    "for a in range(len(data_athlete_grp)):\n",
    "    #print(data_athlete_grp.loc[a,\"athletes\"])\n",
    "    data_medals.at[data_athlete_grp.base[a],\"athletes\"] = data_athlete_grp.loc[a,\"athletes\"]\n",
    "\n",
    "data_medals"
   ]
  },
  {
   "cell_type": "code",
   "execution_count": null,
   "id": "3393ae82",
   "metadata": {},
   "outputs": [],
   "source": []
  },
  {
   "cell_type": "code",
   "execution_count": null,
   "id": "02a41976",
   "metadata": {},
   "outputs": [],
   "source": [
    "top12 = [\"Birgit FISCHER\", \"Isabell WERTH\", \"Reiner KLIMKE\", \"Natalie GEISENBERGER\",\n",
    "         \"Kristin OTTO\", \"Karin JANZ\", \"Roland MATTHES\", \"Karin JANZ\",\n",
    "         \"Ralf SCHUMANN\", \"Dagmar HAZE\", \"Konrad FREY\", \"Karl ALFRED\"]\n",
    "nom = medals_de.athlete_full_name.values.tolist()\n",
    "medaille_type = medals_de.medal_type.values.tolist()\n",
    "\n",
    "athlete = []\n",
    "type_medaille = []\n",
    "\n",
    "for i in range(len(top12)):\n",
    "    for j in range(len(medals_de)):\n",
    "        if nom[j] == top12[i]:\n",
    "            type_medaille.append(medaille_type[j])\n",
    "            athlete.append(nom[j])\n",
    "\n",
    "for i in range(len(top12)):\n",
    "    for j in range(len(data_medals)):\n",
    "        if type(data_medals.athletes.iloc[j]) == list:\n",
    "            for k in range(len(data_medals.athletes.iloc[j])):\n",
    "                if data_medals.athletes.iloc[j][k] == top12[i]:\n",
    "                    type_medaille.append(medaille_type[j])\n",
    "                    athlete.append(data_medals.athletes.iloc[j][k])\n",
    "                    print(data_medals.iloc[][k])\n",
    "   \n",
    "            \n",
    "\n",
    "df_medaille_athlete = pd.DataFrame((zip(athlete, type_medaille)), columns = ['Athlete', 'Type_Medaille'])\n",
    "df_medaille_athlete"
   ]
  },
  {
   "cell_type": "code",
   "execution_count": null,
   "id": "7174ef7d",
   "metadata": {},
   "outputs": [],
   "source": [
    "(\n",
    "    p9.ggplot(data=df_medaille_athlete, mapping =  p9.aes(x='Athlete', fill='Type_Medaille'))\n",
    "    + p9.scale_fill_manual(values=[\"#C49C48\", \"#FFD700\", \"#C0C0C0\"])\n",
    "    + p9.geom_histogram(bins=12, binwidth = 0.5,\n",
    "                        colour=\"#000000\",\n",
    "                        size=1,\n",
    "                        alpha=0.7)  \n",
    "    + p9.theme(axis_text_x = p9.element_text(angle=45, hjust=1))\n",
    ")"
   ]
  },
  {
   "cell_type": "code",
   "execution_count": null,
   "id": "a3af3949",
   "metadata": {},
   "outputs": [],
   "source": [
    "data\n",
    "Total_athlete = []\n",
    "year = []\n",
    "\n",
    "for i in range(0,len(hosts_summer)*4+12,4):\n",
    "    Total_athlete.append(len(data[data.game_year == (2020 - i)]))\n",
    "    \n",
    "print(Total_athlete)\n",
    "\n",
    "data_athlete_medaille = df_medal_country.assign(Total_athlete = Total_athlete)\n",
    "\n",
    "data_athlete_medaille.head()"
   ]
  },
  {
   "cell_type": "code",
   "execution_count": null,
   "id": "e2bf824f",
   "metadata": {},
   "outputs": [],
   "source": [
    "(\n",
    "    p9.ggplot(data=data_athlete_medaille, mapping =  p9.aes(x='Total_medals', y='Total_athlete'))\n",
    "    + p9.geom_point()  \n",
    "    + p9.theme(axis_text_x = p9.element_text(angle=45, hjust=1))\n",
    ")"
   ]
  },
  {
   "cell_type": "code",
   "execution_count": null,
   "id": "9394263e",
   "metadata": {},
   "outputs": [],
   "source": [
    "top12 = top12_bis.Athlete\n",
    "\n",
    "year_list = data_2.game_year.values.tolist()\n",
    "nom = data_2.athlete_full_name.values.tolist()\n",
    "medaille_type = data_2.medal_type.values.tolist()\n",
    "\n",
    "\n",
    "Year_1 = []\n",
    "Type_medaille_1 = []\n",
    "\n",
    "for j in range(len(nom)):\n",
    "    if nom[j] == \"Birgit FISCHER\":\n",
    "        Type_medaille_1.append(medaille_type[j])\n",
    "        Year_1.append(year_list[j])\n",
    "        \n",
    "df_medaille_top1 = pd.DataFrame((zip(Year_1, Type_medaille_1)), columns = ['Year', 'Type_Medaille'])\n",
    "print(df_medaille_top1)\n",
    "silver = df_medaille_top1[df_medaille_top1[\"Type_Medaille\"] == \"SILVER\"]\n",
    "gold = df_medaille_top1[df_medaille_top1[\"Type_Medaille\"] == \"GOLD\"]\n",
    "df_gold_silver = pd.merge(silver, gold, on=\"Year\", how = \"outer\")\n",
    "\n"
   ]
  },
  {
   "cell_type": "code",
   "execution_count": null,
   "id": "d606f3f9",
   "metadata": {},
   "outputs": [],
   "source": [
    "(\n",
    "    p9.ggplot(data=data_athlete_medaille, mapping =  p9.aes(x='Total_medals', y='Total_athlete'))\n",
    "    + p9.geom_point()  \n",
    "    + p9.theme(axis_text_x = p9.element_text(angle=45, hjust=1))\n",
    "    + p9.geom_smooth()\n",
    ")"
   ]
  },
  {
   "cell_type": "code",
   "execution_count": null,
   "id": "a52507b6",
   "metadata": {},
   "outputs": [],
   "source": [
    "discipline = list(data.discipline_title.unique())\n",
    "year = []\n",
    "for i in range(1896,2024,4):\n",
    "    for j in range(len(discipline)):\n",
    "        year.append(i)\n",
    "print(len(year), len(discipline)*32)\n",
    "new_data = pd.DataFrame(discipline*32, columns = [\"Discipline\"])\n",
    "new_data = new_data.assign(Year = year)"
   ]
  },
  {
   "cell_type": "code",
   "execution_count": null,
   "id": "40084a63",
   "metadata": {},
   "outputs": [],
   "source": [
    "new_data.iloc[1:51]"
   ]
  },
  {
   "cell_type": "code",
   "execution_count": null,
   "id": "91ceedbb",
   "metadata": {},
   "outputs": [],
   "source": [
    "data[(data.discipline_title == \"Trampoline\")]\n",
    "tot_athlete = []\n",
    "for i in range(len(new_data)):\n",
    "    tot_athlete.append(len(data[(data.discipline_title == new_data.Discipline.iloc[i]) & \n",
    "                           (data.game_year == new_data.Year.iloc[i])]))\n",
    "data_fin = new_data.assign(athlete = tot_athlete)\n",
    "data_fin"
   ]
  },
  {
   "cell_type": "code",
   "execution_count": null,
   "id": "843d840f",
   "metadata": {},
   "outputs": [],
   "source": [
    "(\n",
    "    p9.ggplot(data = data_fin, mapping = p9.aes(x = \"Discipline\", y = \"Year\", fill = \"athlete\"))\n",
    "    + p9.geom_tile(p9.aes(width=1,height=5))\n",
    "    + p9.geom_text(p9.aes(label='athlete'),size=10)\n",
    "    + p9.theme(axis_text_x = p9.element_text(angle=45, hjust=1))\n",
    "    + p9.theme(figure_size=(30,15))\n",
    "\n",
    ")"
   ]
  },
  {
   "cell_type": "code",
   "execution_count": null,
   "id": "55aa6c01",
   "metadata": {},
   "outputs": [],
   "source": [
    "df_best = pd.merge(data, athletes, on=\"athlete_full_name\", how = \"inner\")\n"
   ]
  },
  {
   "cell_type": "code",
   "execution_count": null,
   "id": "8b28c4bf",
   "metadata": {},
   "outputs": [],
   "source": [
    "df_best = df_best[~df_best.medal_type.isnull()]\n",
    "df_best = df_best[~df_best.athlete_medals.isnull()]"
   ]
  },
  {
   "cell_type": "code",
   "execution_count": null,
   "id": "c644be2a",
   "metadata": {},
   "outputs": [],
   "source": [
    "df_best_unique = df_best.drop_duplicates(subset = [\"athlete_full_name\"])"
   ]
  },
  {
   "cell_type": "code",
   "execution_count": null,
   "id": "1e58c954",
   "metadata": {},
   "outputs": [],
   "source": [
    "df_best_unique"
   ]
  },
  {
   "cell_type": "code",
   "execution_count": null,
   "id": "030d499f",
   "metadata": {},
   "outputs": [],
   "source": [
    "characters = \"\\n\"\n",
    "\n",
    "# partie longue à lancer\n",
    "for j in range(len(df_best_unique)):\n",
    "    df_best_unique.athlete_medals.iloc[j] = str(df_best_unique.athlete_medals.iloc[j])\n",
    "    for x in range(len(characters)):\n",
    "        df_best_unique.athlete_medals.iloc[j] = df_best_unique.athlete_medals.iloc[j].replace(characters[x],\"\")\n"
   ]
  },
  {
   "cell_type": "code",
   "execution_count": null,
   "id": "0c83ce02",
   "metadata": {},
   "outputs": [],
   "source": [
    "for i in range(len(df_best_unique)):\n",
    "    df_best_unique.athlete_medals.iloc[i] = list(df_best_unique.athlete_medals.iloc[i])\n"
   ]
  },
  {
   "cell_type": "code",
   "execution_count": null,
   "id": "334d79a8",
   "metadata": {},
   "outputs": [],
   "source": [
    "df_best_unique['GOLD'] = 0\n",
    "df_best_unique['SILVER'] = 0\n",
    "df_best_unique['BRONZE'] = 0"
   ]
  },
  {
   "cell_type": "code",
   "execution_count": null,
   "id": "f417dbff",
   "metadata": {},
   "outputs": [],
   "source": [
    "for j in range(len(df_best_unique)):\n",
    "    for i in range(0,len(df_best_unique.athlete_medals.iloc[j]),2):\n",
    "        if df_best_unique.athlete_medals.iloc[j][i+1] == \"G\":\n",
    "            df_best_unique.GOLD.iloc[j] = int(df_best_unique.athlete_medals.iloc[j][i])\n",
    "        elif df_best_unique.athlete_medals.iloc[j][i+1] == \"S\":\n",
    "            df_best_unique.SILVER.iloc[j] = int(df_best_unique.athlete_medals.iloc[j][i])\n",
    "        else :\n",
    "            df_best_unique.BRONZE.iloc[j] = int(df_best_unique.athlete_medals.iloc[j][i])\n"
   ]
  },
  {
   "cell_type": "code",
   "execution_count": null,
   "id": "48fca49d",
   "metadata": {},
   "outputs": [],
   "source": [
    "df_best_unique['Total'] = 0"
   ]
  },
  {
   "cell_type": "code",
   "execution_count": null,
   "id": "3cb1b206",
   "metadata": {},
   "outputs": [],
   "source": []
  },
  {
   "cell_type": "code",
   "execution_count": null,
   "id": "1993ab3b",
   "metadata": {},
   "outputs": [],
   "source": [
    "for i in range(len(df_best_unique)):\n",
    "    df_best_unique.Total.iloc[i] = df_best_unique.GOLD.iloc[i] + df_best_unique.SILVER.iloc[i] + df_best_unique.BRONZE.iloc[i] "
   ]
  },
  {
   "cell_type": "code",
   "execution_count": null,
   "id": "84574785",
   "metadata": {
    "scrolled": true
   },
   "outputs": [],
   "source": [
    "df_best_unique.Total.value_counts()"
   ]
  },
  {
   "cell_type": "code",
   "execution_count": null,
   "id": "6fa6bdba",
   "metadata": {},
   "outputs": [],
   "source": [
    "testt = df_best_unique.sort_values(by = [\"Total\", \"GOLD\"], ascending=False)"
   ]
  },
  {
   "cell_type": "code",
   "execution_count": null,
   "id": "fc35c409",
   "metadata": {},
   "outputs": [],
   "source": [
    "top10 = testt.iloc[0:9]\n",
    "top10"
   ]
  },
  {
   "cell_type": "code",
   "execution_count": null,
   "id": "1842a3f2",
   "metadata": {},
   "outputs": [],
   "source": [
    "df_best_unique"
   ]
  },
  {
   "cell_type": "code",
   "execution_count": null,
   "id": "33d7687b",
   "metadata": {},
   "outputs": [],
   "source": []
  },
  {
   "cell_type": "code",
   "execution_count": null,
   "id": "b99fc0c5",
   "metadata": {},
   "outputs": [],
   "source": [
    "liste_nom = list(top10.athlete_full_name)"
   ]
  },
  {
   "cell_type": "code",
   "execution_count": null,
   "id": "adf17f39",
   "metadata": {},
   "outputs": [],
   "source": [
    "Name = []\n",
    "i=0\n",
    "for count in top10.Total :\n",
    "    for j in range(count):\n",
    "        Name.append(top10.athlete_full_name.iloc[i])\n",
    "    i+=1"
   ]
  },
  {
   "cell_type": "code",
   "execution_count": null,
   "id": "d41b5de7",
   "metadata": {
    "scrolled": true
   },
   "outputs": [],
   "source": [
    "df_fin = pd.DataFrame(Name, columns=[\"Name\"])"
   ]
  },
  {
   "cell_type": "code",
   "execution_count": null,
   "id": "301d965b",
   "metadata": {},
   "outputs": [],
   "source": [
    "medal = []\n",
    "\n",
    "for i in range(len(top10)):\n",
    "    for j in range(top10.Total.iloc[i]):\n",
    "        if j < top10.GOLD.iloc[i]:\n",
    "            medal.append(\"GOLD\")\n",
    "        elif j >= top10.GOLD.iloc[i] and j< (top10.GOLD.iloc[i] + top10.SILVER.iloc[i]):\n",
    "            medal.append(\"SILVER\")\n",
    "        elif j >= (top10.GOLD.iloc[i] + top10.SILVER.iloc[i]):\n",
    "            medal.append(\"BRONZE\")"
   ]
  },
  {
   "cell_type": "code",
   "execution_count": null,
   "id": "e4f0508d",
   "metadata": {},
   "outputs": [],
   "source": [
    "df_final = df_fin.assign(Medal = medal)"
   ]
  },
  {
   "cell_type": "code",
   "execution_count": null,
   "id": "59fa923e",
   "metadata": {},
   "outputs": [],
   "source": [
    "df_final"
   ]
  },
  {
   "cell_type": "code",
   "execution_count": null,
   "id": "1f5d5429",
   "metadata": {},
   "outputs": [],
   "source": [
    "(\n",
    "    p9.ggplot(data=df_final, mapping =  p9.aes(x='Name', fill=\"Medal\"))\n",
    "    + p9.scale_fill_manual(values=[\"#C49C48\", \"#FFD700\", \"#C0C0C0\"])\n",
    "    + p9.geom_histogram(bins=10, binwidth = 0.5,\n",
    "                        colour=\"#000000\",\n",
    "                        size=1,\n",
    "                        alpha=0.7)  \n",
    "    + p9.theme(axis_text_x = p9.element_text(angle=45, hjust=1))\n",
    ")"
   ]
  },
  {
   "cell_type": "code",
   "execution_count": null,
   "id": "4aa7d467",
   "metadata": {},
   "outputs": [],
   "source": [
    "year_birgit = [2004,2004,2000,2000,1996,1996,1992,1992,1988,1988,1988,1980]"
   ]
  },
  {
   "cell_type": "code",
   "execution_count": null,
   "id": "a0f52a8d",
   "metadata": {},
   "outputs": [],
   "source": [
    "medal_birgit = [\"GOLD\", \"SILVER\", \"GOLD\", \"GOLD\", \"GOLD\", \"SILVER\", \"GOLD\", \"SILVER\", \"GOLD\", \"GOLD\",\"SILVER\" ,\"GOLD\"]\n",
    "rank_birgit = [\"1\", \"2\", \"1\", \"1\", \"1\", \"2\", \"1\", \"2\", \"1\", \"1\",\"2\" ,\"1\"]\n",
    "total = [1,1,2,2,1,1,1,1,2,2,1,1]"
   ]
  },
  {
   "cell_type": "code",
   "execution_count": null,
   "id": "402b7ace",
   "metadata": {},
   "outputs": [],
   "source": [
    "birth = top10.athlete_year_birth.iloc[0]\n",
    "birth\n",
    "age = year_birgit - birth\n",
    "age = list(age)"
   ]
  },
  {
   "cell_type": "code",
   "execution_count": null,
   "id": "deac200e",
   "metadata": {},
   "outputs": [],
   "source": [
    "df_birgit = pd.DataFrame(year_birgit, columns=[\"Year\"])"
   ]
  },
  {
   "cell_type": "code",
   "execution_count": null,
   "id": "ac7cc06c",
   "metadata": {},
   "outputs": [],
   "source": [
    "df_birgit = df_birgit.assign(medal = medal_birgit, age = age, rank = rank_birgit, Total=total)\n",
    "df_birgit"
   ]
  },
  {
   "cell_type": "code",
   "execution_count": null,
   "id": "39b9d2a3",
   "metadata": {},
   "outputs": [],
   "source": [
    "(\n",
    "    p9.ggplot(data=df_birgit, mapping =  p9.aes(x='age', y=\"medal\"))\n",
    "    + p9.geom_point(p9.aes(size='Total', color=\"Total\"))  \n",
    "    + p9.theme(axis_text_x = p9.element_text(angle=45, hjust=1))\n",
    ")"
   ]
  },
  {
   "cell_type": "code",
   "execution_count": null,
   "id": "a3061469",
   "metadata": {
    "scrolled": true
   },
   "outputs": [],
   "source": []
  },
  {
   "cell_type": "code",
   "execution_count": null,
   "id": "4e0af544",
   "metadata": {},
   "outputs": [],
   "source": [
    "df = pd.merge(medals_de, hosts_summer, left_on=\"slug_game\", right_on=\"game_slug\", how = \"inner\")\n",
    "df = df.loc[:,[\"medal_type\",\"game_location\",\"game_name\",\"game_year\"]]\n",
    "df = df.sort_values(by = [\"game_year\"])\n",
    "df"
   ]
  },
  {
   "cell_type": "code",
   "execution_count": null,
   "id": "7f2c9daf",
   "metadata": {},
   "outputs": [],
   "source": [
    "(\n",
    "    p9.ggplot(data=df, mapping =  p9.aes(x='game_name', fill=\"medal_type\"))\n",
    "    + p9.scale_fill_manual(values=[\"#C49C48\", \"#FFD700\", \"#C0C0C0\"])\n",
    "    + p9.geom_histogram( binwidth = 0.5,\n",
    "                        colour=\"#000000\",\n",
    "                        size=1,\n",
    "                        alpha=0.7)  \n",
    "    + p9.theme(axis_text_x = p9.element_text(angle=45, hjust=1))\n",
    ")"
   ]
  },
  {
   "cell_type": "code",
   "execution_count": null,
   "id": "03f4f3f0",
   "metadata": {},
   "outputs": [],
   "source": [
    "#Athlete total\n",
    "Athletes = data.groupby(by=[\"game_year\"]).size().reset_index(name='athletes_total')\n",
    "Athletes.head()"
   ]
  }
 ],
 "metadata": {
  "kernelspec": {
   "display_name": "Python 3 (ipykernel)",
   "language": "python",
   "name": "python3"
  },
  "language_info": {
   "codemirror_mode": {
    "name": "ipython",
    "version": 3
   },
   "file_extension": ".py",
   "mimetype": "text/x-python",
   "name": "python",
   "nbconvert_exporter": "python",
   "pygments_lexer": "ipython3",
   "version": "3.9.12"
  }
 },
 "nbformat": 4,
 "nbformat_minor": 5
}
